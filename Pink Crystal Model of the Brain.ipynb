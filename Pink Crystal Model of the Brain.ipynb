{
 "cells": [
  {
   "cell_type": "code",
   "execution_count": 62,
   "metadata": {},
   "outputs": [],
   "source": [
    "import numpy as np\n",
    "import pandas as pd\n",
    "import matplotlib.pyplot as plt\n",
    "import plotly.graph_objects as go\n",
    "import matplotlib.patches as mpatches\n",
    "from matplotlib import colormaps, colors\n",
    "from nilearn import datasets, plotting"
   ]
  },
  {
   "cell_type": "markdown",
   "metadata": {},
   "source": [
    "### **Load Data**"
   ]
  },
  {
   "cell_type": "code",
   "execution_count": 63,
   "metadata": {},
   "outputs": [],
   "source": [
    "\n",
    "# Load the Atlas File\n",
    "\n",
    "dim = 64\n",
    "difumo = datasets.fetch_atlas_difumo(dimension=dim, resolution_mm=2, legacy_format=False)\n",
    "\n",
    "atlas_filename = difumo.maps\n",
    "difumo_labels = difumo.labels\n",
    "\n",
    "marker_labels = difumo_labels['difumo_names'].tolist() "
   ]
  },
  {
   "cell_type": "code",
   "execution_count": 64,
   "metadata": {},
   "outputs": [],
   "source": [
    "# grab center coordinates for probabilistic atlas\n",
    "coords = plotting.find_probabilistic_atlas_cut_coords(\n",
    "    maps_img=difumo.maps)"
   ]
  },
  {
   "cell_type": "code",
   "execution_count": 65,
   "metadata": {},
   "outputs": [
    {
     "name": "stdout",
     "output_type": "stream",
     "text": [
      "                                        Feature Name  Importance Score\n",
      "0            Superior frontal gyrus medial - Caudate          0.005596\n",
      "1  Superior temporal sulcus with angular gyrus - ...          0.004884\n",
      "2  Inferior occipital gyrus - Superior parietal l...          0.004799\n",
      "3  Superior parietal lobule anterior - Parieto-oc...          0.004279\n",
      "4  Superior frontal gyrus medial - Dorsomedial pr...          0.004218\n"
     ]
    }
   ],
   "source": [
    "# Create a dictionary with the data\n",
    "data = {\n",
    "    'Feature Name': [\n",
    "        'Superior frontal gyrus medial - Caudate',\n",
    "        'Superior temporal sulcus with angular gyrus - Postcentral gyrus LH',\n",
    "        'Inferior occipital gyrus - Superior parietal lobule',\n",
    "        'Superior parietal lobule anterior - Parieto-occipital sulcus anterior',\n",
    "        'Superior frontal gyrus medial - Dorsomedial prefrontal anterior-superior'\n",
    "    ],\n",
    "    'Importance Score': [\n",
    "        0.005596,\n",
    "        0.004884,\n",
    "        0.004799,\n",
    "        0.004279,\n",
    "        0.004218\n",
    "    ]\n",
    "}\n",
    "\n",
    "# Create the DataFrame\n",
    "df = pd.DataFrame(data)\n",
    "\n",
    "# Display the DataFrame\n",
    "print(df)\n"
   ]
  },
  {
   "cell_type": "code",
   "execution_count": 66,
   "metadata": {},
   "outputs": [],
   "source": [
    "# Functions\n",
    "\n",
    "def transform_df(df):\n",
    "    \"\"\"\n",
    "    Transform the DataFrame by splitting the 'Feature Name' column into 'Marker1' and 'Marker2',\n",
    "    dropping the original 'Feature Name' column, renaming 'Importance Score' to 'Correlation',\n",
    "    and returning the transformed DataFrame.\n",
    "    \n",
    "    Parameters:\n",
    "    df (pd.DataFrame): The input DataFrame with columns 'Feature Index', 'Feature Name', and 'Importance Score'.\n",
    "    \n",
    "    Returns:\n",
    "    pd.DataFrame: The transformed DataFrame with columns 'Feature Index', 'Marker1', 'Marker2', and 'Correlation'.\n",
    "    \"\"\"\n",
    "    \n",
    "    # Ensure 'Feature Name' column exists\n",
    "    if 'Feature Name' not in df.columns or 'Importance Score' not in df.columns:\n",
    "        raise ValueError(\"Input DataFrame must contain 'Feature Name' and 'Importance Score' columns.\")\n",
    "    \n",
    "    # Split `Feature Name` into `Marker1` and `Marker2`\n",
    "    df[['Marker1', 'Marker2']] = df['Feature Name'].str.split(' - ', n=1, expand=True)\n",
    "    \n",
    "    # Drop the 'Feature Name' column\n",
    "    df = df.drop(columns=['Feature Name'])\n",
    "    \n",
    "    # Rename 'Importance Score' to 'Correlation'\n",
    "    df = df.rename(columns={'Importance Score': 'Correlation'})\n",
    "    \n",
    "    return df\n",
    "\n"
   ]
  },
  {
   "cell_type": "code",
   "execution_count": 68,
   "metadata": {},
   "outputs": [],
   "source": [
    "marker_corr = transform_df(df)\n",
    "\n",
    "df = marker_corr\n"
   ]
  },
  {
   "cell_type": "markdown",
   "metadata": {},
   "source": [
    "# Crystal Connectome"
   ]
  },
  {
   "cell_type": "code",
   "execution_count": 198,
   "metadata": {},
   "outputs": [],
   "source": [
    "import numpy as np\n",
    "import pandas as pd\n",
    "import plotly.graph_objects as go\n",
    "from scipy.spatial import Delaunay  # Import Delaunay for triangulation\n",
    "import matplotlib.pyplot as plt\n",
    "import matplotlib.colors as colors\n",
    "\n",
    "def visualize_white_connectome_with_surface_final(df_sorted, coords, marker_labels, cmap_markers='viridis', cmap_edges='Paired'):\n",
    "    \"\"\"\n",
    "    Visualizes a connectome on a fixed 3D surface using Plotly.\n",
    "    \n",
    "    Parameters:\n",
    "    - df_sorted: DataFrame containing correlations between markers.\n",
    "    - coords: Array of coordinates for the markers.\n",
    "    - marker_labels: Labels for the markers.\n",
    "    - cmap_markers: Colormap for the marker colors.\n",
    "    - cmap_edges: Colormap for the edge colors.\n",
    "    \"\"\"\n",
    "\n",
    "    vertices = coords  # Use the given coordinates for the surface\n",
    "\n",
    "    # Create a Plotly figure\n",
    "    fig = go.Figure()\n",
    "\n",
    "    # Normalize correlations for color mapping\n",
    "    norm = colors.Normalize(vmin=df_sorted['Correlation'].min(), vmax=df_sorted['Correlation'].max())\n",
    "    cmap_markers = plt.colormaps[cmap_markers]\n",
    "    cmap_edges = plt.colormaps[cmap_edges]\n",
    "\n",
    "    # Triangulate the surface mesh using Delaunay triangulation\n",
    "    if vertices.shape[0] >= 3:  # Ensure we have enough points to form a surface\n",
    "        tri = Delaunay(vertices[:, :2])  # Use only the x and y coordinates for triangulation\n",
    "\n",
    "        fig.add_trace(go.Mesh3d(\n",
    "            x=vertices[:, 0],\n",
    "            y=vertices[:, 1],\n",
    "            z=vertices[:, 2],\n",
    "            color='lightcoral',  # Light color for the surface\n",
    "            opacity=0.1,  # Adjust opacity for visibility (lower for more transparency)\n",
    "            i=tri.simplices[:, 0],\n",
    "            j=tri.simplices[:, 1],\n",
    "            k=tri.simplices[:, 2],\n",
    "            name='Brain Surface',  # Name for legend\n",
    "            showlegend=True  # Show in legend\n",
    "        ))\n",
    "\n",
    "    # Ensure marker_labels is a list\n",
    "    if isinstance(marker_labels, pd.Index):\n",
    "        marker_labels = marker_labels.tolist()\n",
    "\n",
    "    # Extract unique markers from the top rows\n",
    "    unique_markers = pd.unique(df_sorted[['Marker1', 'Marker2']].values.ravel('K'))\n",
    "\n",
    "    # Filter marker labels and coordinates to only include those in unique_markers\n",
    "    filtered_indices = [i for i, label in enumerate(marker_labels) if label in unique_markers]\n",
    "    filtered_coords = coords[filtered_indices]\n",
    "    filtered_labels = [marker_labels[i] for i in filtered_indices]\n",
    "\n",
    "    # Add nodes to the plot\n",
    "    fig.add_trace(go.Scatter3d(\n",
    "        x=filtered_coords[:, 0],\n",
    "        y=filtered_coords[:, 1],\n",
    "        z=filtered_coords[:, 2],\n",
    "        mode='markers+text',\n",
    "        marker=dict(size=8, color=[colors.to_hex(cmap_markers(norm(c))) for c in df_sorted['Correlation']]),\n",
    "        text=filtered_labels,\n",
    "        textfont=dict(color='black', size=13, family=\"Arial\"),  # Changed text color to black\n",
    "        textposition='middle right',\n",
    "        name='Markers'\n",
    "    ))\n",
    "\n",
    "    # Add edges to the plot\n",
    "    for i, row in df_sorted.iterrows():\n",
    "        marker1 = row['Marker1']\n",
    "        marker2 = row['Marker2']\n",
    "        correlation = row['Correlation']\n",
    "\n",
    "        marker1_idx = filtered_labels.index(marker1)\n",
    "        marker2_idx = filtered_labels.index(marker2)\n",
    "\n",
    "        fig.add_trace(go.Scatter3d(\n",
    "            x=[filtered_coords[marker1_idx, 0], filtered_coords[marker2_idx, 0]],\n",
    "            y=[filtered_coords[marker1_idx, 1], filtered_coords[marker2_idx, 1]],\n",
    "            z=[filtered_coords[marker1_idx, 2], filtered_coords[marker2_idx, 2]],\n",
    "            mode='lines',\n",
    "            line=dict(color=colors.to_hex(cmap_edges(norm(correlation))), width=3),\n",
    "            name=f\"{marker1} - {marker2} ({correlation:.2f})\"\n",
    "        ))\n",
    "\n",
    "    # Update layout\n",
    "    fig.update_layout(\n",
    "        title=dict(\n",
    "            text='',\n",
    "            x=0.5,\n",
    "            y=0.95,\n",
    "            font=dict(size=22, color='navy', family=\"Roboto\", weight='bold')  # Changed title color to navy blue\n",
    "        ),\n",
    "        paper_bgcolor='white',  # Changed background to white\n",
    "        plot_bgcolor='white',   # Changed plot background to white\n",
    "        scene=dict(\n",
    "            xaxis=dict(\n",
    "                title=dict(text='', font=dict(size=18, color='navy')),  # Changed axes title color to navy\n",
    "                showbackground=False,\n",
    "                showgrid=False,  # Disable grid\n",
    "                showline=False,\n",
    "                linecolor='navy',  # Change axis line color to navy\n",
    "                showticklabels=False,\n",
    "                zeroline=False\n",
    "            ),\n",
    "            yaxis=dict(\n",
    "                title=dict(text='', font=dict(size=18, color='navy')),  # Changed axes title color to navy\n",
    "                showbackground=False,\n",
    "                showgrid=False,  # Disable grid\n",
    "                showline=False,\n",
    "                linecolor='navy',  # Change axis line color to navy\n",
    "                showticklabels=False,\n",
    "                zeroline=False\n",
    "            ),\n",
    "            zaxis=dict(\n",
    "                title=dict(text='', font=dict(size=18, color='navy')),  # Changed axes title color to navy\n",
    "                showbackground=False,\n",
    "                showgrid=False,  # Disable grid\n",
    "                showline=False,\n",
    "                linecolor='navy',  # Change axis line color to navy\n",
    "                showticklabels=False,\n",
    "                zeroline=False\n",
    "            )\n",
    "        ),\n",
    "        margin=dict(\n",
    "            l=20,\n",
    "            r=20,\n",
    "            b=20,\n",
    "            t=20\n",
    "        ),\n",
    "        width=800,\n",
    "        height=600,\n",
    "        showlegend=True,\n",
    "        legend=dict(\n",
    "            x=0.0,\n",
    "            y=-0.2,\n",
    "            font=dict(size=10, color='navy', family=\"Arial\"),  # Changed legend text color to navy\n",
    "            bgcolor='rgba(255, 255, 255, 0)',  # Changed legend background to transparent\n",
    "        )\n",
    "    )\n",
    "\n",
    "    # Show the plot\n",
    "    fig.show()\n",
    "\n",
    "# Example usage\n",
    "# df_sorted = pd.DataFrame(...)  # Load or create your DataFrame with correlations and markers\n",
    "# coords = np.array(...)  # Load or create your array of coordinates\n",
    "# marker_labels = [...]  # Load or create your list of marker labels\n",
    "# visualize_connectome_with_surface_final(df_sorted, coords, marker_labels)\n"
   ]
  },
  {
   "cell_type": "code",
   "execution_count": 211,
   "metadata": {},
   "outputs": [
    {
     "data": {
      "application/vnd.plotly.v1+json": {
       "config": {
        "plotlyServerURL": "https://plot.ly"
       },
       "data": [
        {
         "color": "lightcoral",
         "i": [
          11,
          22,
          5,
          48,
          62,
          5,
          16,
          46,
          31,
          29,
          29,
          51,
          0,
          5,
          50,
          7,
          7,
          39,
          62,
          7,
          9,
          49,
          39,
          24,
          46,
          41,
          31,
          15,
          37,
          37,
          58,
          11,
          40,
          18,
          18,
          46,
          27,
          43,
          43,
          42,
          61,
          29,
          61,
          24,
          63,
          22,
          0,
          14,
          14,
          14,
          16,
          63,
          55,
          23,
          28,
          21,
          21,
          21,
          37,
          42,
          47,
          44,
          44,
          40,
          44,
          34,
          6,
          47,
          56,
          56,
          56,
          35,
          2,
          21,
          34,
          53,
          34,
          56,
          32,
          32,
          32,
          28,
          56,
          17,
          52,
          8,
          52,
          52,
          52,
          17,
          19,
          8,
          10,
          12,
          10,
          10,
          54,
          54,
          4,
          26,
          53,
          52,
          59,
          59,
          12,
          59,
          59,
          19,
          13,
          13,
          13,
          34,
          13,
          3
         ],
         "j": [
          48,
          5,
          22,
          5,
          39,
          16,
          5,
          39,
          15,
          57,
          22,
          29,
          29,
          50,
          5,
          51,
          62,
          49,
          49,
          49,
          49,
          7,
          24,
          0,
          24,
          55,
          58,
          58,
          58,
          9,
          37,
          18,
          18,
          50,
          40,
          43,
          43,
          11,
          42,
          43,
          0,
          61,
          29,
          63,
          16,
          63,
          63,
          46,
          24,
          63,
          14,
          14,
          28,
          2,
          2,
          42,
          27,
          46,
          21,
          44,
          44,
          47,
          6,
          44,
          40,
          47,
          35,
          35,
          28,
          35,
          55,
          56,
          12,
          53,
          53,
          34,
          32,
          32,
          56,
          4,
          34,
          26,
          26,
          52,
          8,
          52,
          37,
          21,
          53,
          19,
          17,
          10,
          12,
          10,
          31,
          8,
          56,
          26,
          54,
          54,
          3,
          3,
          19,
          12,
          59,
          2,
          28,
          59,
          52,
          3,
          17,
          13,
          34,
          13
         ],
         "k": [
          33,
          57,
          25,
          33,
          51,
          33,
          25,
          9,
          45,
          38,
          57,
          38,
          51,
          57,
          48,
          60,
          51,
          9,
          39,
          62,
          60,
          60,
          51,
          51,
          39,
          23,
          15,
          60,
          31,
          60,
          60,
          48,
          11,
          48,
          36,
          33,
          46,
          33,
          11,
          27,
          22,
          22,
          0,
          0,
          25,
          25,
          22,
          33,
          46,
          24,
          33,
          16,
          23,
          45,
          23,
          27,
          46,
          9,
          9,
          11,
          42,
          6,
          36,
          36,
          11,
          42,
          41,
          6,
          55,
          47,
          41,
          41,
          45,
          42,
          20,
          42,
          47,
          1,
          47,
          1,
          4,
          4,
          28,
          30,
          30,
          31,
          31,
          37,
          21,
          4,
          30,
          30,
          30,
          45,
          45,
          31,
          1,
          56,
          1,
          4,
          20,
          53,
          30,
          2,
          30,
          28,
          4,
          4,
          17,
          52,
          4,
          4,
          20,
          20
         ],
         "name": "Brain Surface",
         "opacity": 0.1,
         "showlegend": true,
         "type": "mesh3d",
         "x": [
          -25.62120710530391,
          20.738789765966857,
          0.8450085140616892,
          -0.6726008175134695,
          10.626162951964176,
          39.00432740440539,
          58.63635941962423,
          -55.66444258726584,
          -19.89569180246221,
          -42.17179600760616,
          -19.677151186011372,
          40.38832655715504,
          -15.02542738501559,
          1.2057994649601085,
          -11.58140264146877,
          -48.35492621112427,
          -0.1127015977588286,
          0.04029894797416489,
          54.37198922524624,
          2.825287719235561,
          1.8090512101829859,
          0.5648175093257777,
          1.0418689725246253,
          32.1208290302645,
          -27.903511026760455,
          0.2013299540077753,
          19.79545646547288,
          0.4572447530186423,
          25.185454470776023,
          -0.8795183947648866,
          -12.32832434894803,
          -35.752465666092725,
          19.17256772936335,
          0.4133756578272596,
          15.471651771789894,
          51.52188247526223,
          61.21998441014571,
          -39.99728212747812,
          -0.555308344473076,
          -28.639727946068504,
          54.32566169248781,
          51.40615554918875,
          10.52878617588155,
          -0.448255949722153,
          42.520653430885716,
          -27.747722104624927,
          -10.764499156649407,
          41.94208257867683,
          46.99194028133118,
          -47.32388612772789,
          47.77201767662379,
          -49.754842709767395,
          -12.98217536071455,
          0.7189711974950228,
          19.530965926045596,
          32.473226030450604,
          28.17841455538222,
          31.726892561718387,
          -48.002650009342624,
          1.9377971750032401,
          -60.54870753175352,
          -0.6389352399152699,
          -48.97734257985126,
          -11.785255632491982
         ],
         "y": [
          27.515233290951755,
          -63.12563906344701,
          -89.81111061162187,
          -55.097396898875374,
          -69.78446751382465,
          22.252113603323522,
          -42.52353986705451,
          -23.57302527202448,
          -73.87770996409151,
          -40.02967635372163,
          -79.16150149670565,
          -20.963665627797866,
          -91.19314266856517,
          -57.93082602350755,
          -3.2244841275103795,
          -67.68345727365399,
          11.56686222387782,
          -66.62268856232595,
          0.39456772948824437,
          -76.2137426211167,
          -51.346810599973495,
          -39.66006947143771,
          37.754785346005065,
          -83.69399949860455,
          -4.255541481916225,
          14.784165672144354,
          -70.6278014056098,
          -26.62782362908878,
          -81.66157663338369,
          54.14388688036112,
          -73.99620824948485,
          -64.08391545837306,
          -56.32447082721343,
          -5.238302947638147,
          -52.42759258315864,
          -59.30693861061884,
          -29.092751190773882,
          -47.093996360966386,
          56.840293254538295,
          -5.171176554199775,
          -5.6049511726942285,
          -65.16761779278349,
          -36.48529809194852,
          -15.813628457648434,
          -25.643988637910198,
          -96.19902172849544,
          -16.921633475468056,
          -47.06985320845182,
          12.8500724313935,
          -33.72255000873176,
          22.569447516378744,
          34.538829280399966,
          -60.608157203592285,
          -48.53468563821353,
          -68.49313859945124,
          -73.66366344558556,
          -68.73784046219423,
          48.23262768896194,
          -65.67755022378435,
          -80.17590600302552,
          -36.85890339581668,
          39.83272381637536,
          -14.994027543608567,
          11.562719028845407
         ],
         "z": [
          47.22435302274994,
          -18.023011432627953,
          0.7672744726839369,
          27.404449577262085,
          35.82675573415398,
          1.0103185119831863,
          10.32781691068918,
          10.707154170091357,
          -28.801795496235158,
          66.69684010792463,
          -21.139362980446258,
          58.01853071311484,
          30.256321403299168,
          39.283847859662046,
          16.203256919939463,
          -11.030790810315537,
          53.06757895487647,
          58.15411494574565,
          2.149744643987077,
          29.679911860302326,
          -23.260522029512643,
          2.046789558624937,
          23.493742106290426,
          20.251027830198012,
          3.2519459688173527,
          36.31973960359849,
          52.85686012184064,
          61.51751041117598,
          -16.236828820584932,
          -0.9897048072108987,
          7.341546442399604,
          48.778906071649175,
          65.2111133826509,
          52.700350910672626,
          1.6736493944547561,
          44.28075729275395,
          29.19403016650442,
          44.86960703929823,
          20.69582206701662,
          56.62197657685016,
          28.793855089300536,
          5.630529798303158,
          50.70865436795944,
          75.94344287888345,
          18.45370239418517,
          1.0562250118652656,
          8.116879429116779,
          49.105200586141976,
          29.39648487257,
          52.08346984621858,
          40.179521315244756,
          16.480382939424516,
          17.08973133277945,
          50.627224999410515,
          -9.619777515737866,
          33.86237007906452,
          59.13230599508901,
          25.79399058868269,
          32.321380143464054,
          15.493030839897756,
          -0.9080120415696484,
          42.24321351519647,
          44.148465087479494,
          3.0539357622125465
         ]
        },
        {
         "marker": {
          "color": [
           "#440154"
          ],
          "size": 8
         },
         "mode": "markers+text",
         "name": "Markers",
         "text": [
          "Superior frontal gyrus medial",
          "Caudate"
         ],
         "textfont": {
          "color": "black",
          "family": "Arial",
          "size": 13
         },
         "textposition": "middle right",
         "type": "scatter3d",
         "x": [
          -0.1127015977588286,
          -11.785255632491982
         ],
         "y": [
          11.56686222387782,
          11.562719028845407
         ],
         "z": [
          53.06757895487647,
          3.0539357622125465
         ]
        },
        {
         "line": {
          "color": "#a6cee3",
          "width": 3
         },
         "mode": "lines",
         "name": "Superior frontal gyrus medial - Caudate (0.01)",
         "type": "scatter3d",
         "x": [
          -0.1127015977588286,
          -11.785255632491982
         ],
         "y": [
          11.56686222387782,
          11.562719028845407
         ],
         "z": [
          53.06757895487647,
          3.0539357622125465
         ]
        }
       ],
       "layout": {
        "height": 600,
        "legend": {
         "bgcolor": "rgba(255, 255, 255, 0)",
         "font": {
          "color": "navy",
          "family": "Arial",
          "size": 10
         },
         "x": 0,
         "y": -0.2
        },
        "margin": {
         "b": 20,
         "l": 20,
         "r": 20,
         "t": 20
        },
        "paper_bgcolor": "white",
        "plot_bgcolor": "white",
        "scene": {
         "xaxis": {
          "linecolor": "navy",
          "showbackground": false,
          "showgrid": false,
          "showline": false,
          "showticklabels": false,
          "title": {
           "font": {
            "color": "navy",
            "size": 18
           },
           "text": ""
          },
          "zeroline": false
         },
         "yaxis": {
          "linecolor": "navy",
          "showbackground": false,
          "showgrid": false,
          "showline": false,
          "showticklabels": false,
          "title": {
           "font": {
            "color": "navy",
            "size": 18
           },
           "text": ""
          },
          "zeroline": false
         },
         "zaxis": {
          "linecolor": "navy",
          "showbackground": false,
          "showgrid": false,
          "showline": false,
          "showticklabels": false,
          "title": {
           "font": {
            "color": "navy",
            "size": 18
           },
           "text": ""
          },
          "zeroline": false
         }
        },
        "showlegend": true,
        "template": {
         "data": {
          "bar": [
           {
            "error_x": {
             "color": "#2a3f5f"
            },
            "error_y": {
             "color": "#2a3f5f"
            },
            "marker": {
             "line": {
              "color": "#E5ECF6",
              "width": 0.5
             },
             "pattern": {
              "fillmode": "overlay",
              "size": 10,
              "solidity": 0.2
             }
            },
            "type": "bar"
           }
          ],
          "barpolar": [
           {
            "marker": {
             "line": {
              "color": "#E5ECF6",
              "width": 0.5
             },
             "pattern": {
              "fillmode": "overlay",
              "size": 10,
              "solidity": 0.2
             }
            },
            "type": "barpolar"
           }
          ],
          "carpet": [
           {
            "aaxis": {
             "endlinecolor": "#2a3f5f",
             "gridcolor": "white",
             "linecolor": "white",
             "minorgridcolor": "white",
             "startlinecolor": "#2a3f5f"
            },
            "baxis": {
             "endlinecolor": "#2a3f5f",
             "gridcolor": "white",
             "linecolor": "white",
             "minorgridcolor": "white",
             "startlinecolor": "#2a3f5f"
            },
            "type": "carpet"
           }
          ],
          "choropleth": [
           {
            "colorbar": {
             "outlinewidth": 0,
             "ticks": ""
            },
            "type": "choropleth"
           }
          ],
          "contour": [
           {
            "colorbar": {
             "outlinewidth": 0,
             "ticks": ""
            },
            "colorscale": [
             [
              0,
              "#0d0887"
             ],
             [
              0.1111111111111111,
              "#46039f"
             ],
             [
              0.2222222222222222,
              "#7201a8"
             ],
             [
              0.3333333333333333,
              "#9c179e"
             ],
             [
              0.4444444444444444,
              "#bd3786"
             ],
             [
              0.5555555555555556,
              "#d8576b"
             ],
             [
              0.6666666666666666,
              "#ed7953"
             ],
             [
              0.7777777777777778,
              "#fb9f3a"
             ],
             [
              0.8888888888888888,
              "#fdca26"
             ],
             [
              1,
              "#f0f921"
             ]
            ],
            "type": "contour"
           }
          ],
          "contourcarpet": [
           {
            "colorbar": {
             "outlinewidth": 0,
             "ticks": ""
            },
            "type": "contourcarpet"
           }
          ],
          "heatmap": [
           {
            "colorbar": {
             "outlinewidth": 0,
             "ticks": ""
            },
            "colorscale": [
             [
              0,
              "#0d0887"
             ],
             [
              0.1111111111111111,
              "#46039f"
             ],
             [
              0.2222222222222222,
              "#7201a8"
             ],
             [
              0.3333333333333333,
              "#9c179e"
             ],
             [
              0.4444444444444444,
              "#bd3786"
             ],
             [
              0.5555555555555556,
              "#d8576b"
             ],
             [
              0.6666666666666666,
              "#ed7953"
             ],
             [
              0.7777777777777778,
              "#fb9f3a"
             ],
             [
              0.8888888888888888,
              "#fdca26"
             ],
             [
              1,
              "#f0f921"
             ]
            ],
            "type": "heatmap"
           }
          ],
          "heatmapgl": [
           {
            "colorbar": {
             "outlinewidth": 0,
             "ticks": ""
            },
            "colorscale": [
             [
              0,
              "#0d0887"
             ],
             [
              0.1111111111111111,
              "#46039f"
             ],
             [
              0.2222222222222222,
              "#7201a8"
             ],
             [
              0.3333333333333333,
              "#9c179e"
             ],
             [
              0.4444444444444444,
              "#bd3786"
             ],
             [
              0.5555555555555556,
              "#d8576b"
             ],
             [
              0.6666666666666666,
              "#ed7953"
             ],
             [
              0.7777777777777778,
              "#fb9f3a"
             ],
             [
              0.8888888888888888,
              "#fdca26"
             ],
             [
              1,
              "#f0f921"
             ]
            ],
            "type": "heatmapgl"
           }
          ],
          "histogram": [
           {
            "marker": {
             "pattern": {
              "fillmode": "overlay",
              "size": 10,
              "solidity": 0.2
             }
            },
            "type": "histogram"
           }
          ],
          "histogram2d": [
           {
            "colorbar": {
             "outlinewidth": 0,
             "ticks": ""
            },
            "colorscale": [
             [
              0,
              "#0d0887"
             ],
             [
              0.1111111111111111,
              "#46039f"
             ],
             [
              0.2222222222222222,
              "#7201a8"
             ],
             [
              0.3333333333333333,
              "#9c179e"
             ],
             [
              0.4444444444444444,
              "#bd3786"
             ],
             [
              0.5555555555555556,
              "#d8576b"
             ],
             [
              0.6666666666666666,
              "#ed7953"
             ],
             [
              0.7777777777777778,
              "#fb9f3a"
             ],
             [
              0.8888888888888888,
              "#fdca26"
             ],
             [
              1,
              "#f0f921"
             ]
            ],
            "type": "histogram2d"
           }
          ],
          "histogram2dcontour": [
           {
            "colorbar": {
             "outlinewidth": 0,
             "ticks": ""
            },
            "colorscale": [
             [
              0,
              "#0d0887"
             ],
             [
              0.1111111111111111,
              "#46039f"
             ],
             [
              0.2222222222222222,
              "#7201a8"
             ],
             [
              0.3333333333333333,
              "#9c179e"
             ],
             [
              0.4444444444444444,
              "#bd3786"
             ],
             [
              0.5555555555555556,
              "#d8576b"
             ],
             [
              0.6666666666666666,
              "#ed7953"
             ],
             [
              0.7777777777777778,
              "#fb9f3a"
             ],
             [
              0.8888888888888888,
              "#fdca26"
             ],
             [
              1,
              "#f0f921"
             ]
            ],
            "type": "histogram2dcontour"
           }
          ],
          "mesh3d": [
           {
            "colorbar": {
             "outlinewidth": 0,
             "ticks": ""
            },
            "type": "mesh3d"
           }
          ],
          "parcoords": [
           {
            "line": {
             "colorbar": {
              "outlinewidth": 0,
              "ticks": ""
             }
            },
            "type": "parcoords"
           }
          ],
          "pie": [
           {
            "automargin": true,
            "type": "pie"
           }
          ],
          "scatter": [
           {
            "fillpattern": {
             "fillmode": "overlay",
             "size": 10,
             "solidity": 0.2
            },
            "type": "scatter"
           }
          ],
          "scatter3d": [
           {
            "line": {
             "colorbar": {
              "outlinewidth": 0,
              "ticks": ""
             }
            },
            "marker": {
             "colorbar": {
              "outlinewidth": 0,
              "ticks": ""
             }
            },
            "type": "scatter3d"
           }
          ],
          "scattercarpet": [
           {
            "marker": {
             "colorbar": {
              "outlinewidth": 0,
              "ticks": ""
             }
            },
            "type": "scattercarpet"
           }
          ],
          "scattergeo": [
           {
            "marker": {
             "colorbar": {
              "outlinewidth": 0,
              "ticks": ""
             }
            },
            "type": "scattergeo"
           }
          ],
          "scattergl": [
           {
            "marker": {
             "colorbar": {
              "outlinewidth": 0,
              "ticks": ""
             }
            },
            "type": "scattergl"
           }
          ],
          "scattermapbox": [
           {
            "marker": {
             "colorbar": {
              "outlinewidth": 0,
              "ticks": ""
             }
            },
            "type": "scattermapbox"
           }
          ],
          "scatterpolar": [
           {
            "marker": {
             "colorbar": {
              "outlinewidth": 0,
              "ticks": ""
             }
            },
            "type": "scatterpolar"
           }
          ],
          "scatterpolargl": [
           {
            "marker": {
             "colorbar": {
              "outlinewidth": 0,
              "ticks": ""
             }
            },
            "type": "scatterpolargl"
           }
          ],
          "scatterternary": [
           {
            "marker": {
             "colorbar": {
              "outlinewidth": 0,
              "ticks": ""
             }
            },
            "type": "scatterternary"
           }
          ],
          "surface": [
           {
            "colorbar": {
             "outlinewidth": 0,
             "ticks": ""
            },
            "colorscale": [
             [
              0,
              "#0d0887"
             ],
             [
              0.1111111111111111,
              "#46039f"
             ],
             [
              0.2222222222222222,
              "#7201a8"
             ],
             [
              0.3333333333333333,
              "#9c179e"
             ],
             [
              0.4444444444444444,
              "#bd3786"
             ],
             [
              0.5555555555555556,
              "#d8576b"
             ],
             [
              0.6666666666666666,
              "#ed7953"
             ],
             [
              0.7777777777777778,
              "#fb9f3a"
             ],
             [
              0.8888888888888888,
              "#fdca26"
             ],
             [
              1,
              "#f0f921"
             ]
            ],
            "type": "surface"
           }
          ],
          "table": [
           {
            "cells": {
             "fill": {
              "color": "#EBF0F8"
             },
             "line": {
              "color": "white"
             }
            },
            "header": {
             "fill": {
              "color": "#C8D4E3"
             },
             "line": {
              "color": "white"
             }
            },
            "type": "table"
           }
          ]
         },
         "layout": {
          "annotationdefaults": {
           "arrowcolor": "#2a3f5f",
           "arrowhead": 0,
           "arrowwidth": 1
          },
          "autotypenumbers": "strict",
          "coloraxis": {
           "colorbar": {
            "outlinewidth": 0,
            "ticks": ""
           }
          },
          "colorscale": {
           "diverging": [
            [
             0,
             "#8e0152"
            ],
            [
             0.1,
             "#c51b7d"
            ],
            [
             0.2,
             "#de77ae"
            ],
            [
             0.3,
             "#f1b6da"
            ],
            [
             0.4,
             "#fde0ef"
            ],
            [
             0.5,
             "#f7f7f7"
            ],
            [
             0.6,
             "#e6f5d0"
            ],
            [
             0.7,
             "#b8e186"
            ],
            [
             0.8,
             "#7fbc41"
            ],
            [
             0.9,
             "#4d9221"
            ],
            [
             1,
             "#276419"
            ]
           ],
           "sequential": [
            [
             0,
             "#0d0887"
            ],
            [
             0.1111111111111111,
             "#46039f"
            ],
            [
             0.2222222222222222,
             "#7201a8"
            ],
            [
             0.3333333333333333,
             "#9c179e"
            ],
            [
             0.4444444444444444,
             "#bd3786"
            ],
            [
             0.5555555555555556,
             "#d8576b"
            ],
            [
             0.6666666666666666,
             "#ed7953"
            ],
            [
             0.7777777777777778,
             "#fb9f3a"
            ],
            [
             0.8888888888888888,
             "#fdca26"
            ],
            [
             1,
             "#f0f921"
            ]
           ],
           "sequentialminus": [
            [
             0,
             "#0d0887"
            ],
            [
             0.1111111111111111,
             "#46039f"
            ],
            [
             0.2222222222222222,
             "#7201a8"
            ],
            [
             0.3333333333333333,
             "#9c179e"
            ],
            [
             0.4444444444444444,
             "#bd3786"
            ],
            [
             0.5555555555555556,
             "#d8576b"
            ],
            [
             0.6666666666666666,
             "#ed7953"
            ],
            [
             0.7777777777777778,
             "#fb9f3a"
            ],
            [
             0.8888888888888888,
             "#fdca26"
            ],
            [
             1,
             "#f0f921"
            ]
           ]
          },
          "colorway": [
           "#636efa",
           "#EF553B",
           "#00cc96",
           "#ab63fa",
           "#FFA15A",
           "#19d3f3",
           "#FF6692",
           "#B6E880",
           "#FF97FF",
           "#FECB52"
          ],
          "font": {
           "color": "#2a3f5f"
          },
          "geo": {
           "bgcolor": "white",
           "lakecolor": "white",
           "landcolor": "#E5ECF6",
           "showlakes": true,
           "showland": true,
           "subunitcolor": "white"
          },
          "hoverlabel": {
           "align": "left"
          },
          "hovermode": "closest",
          "mapbox": {
           "style": "light"
          },
          "paper_bgcolor": "white",
          "plot_bgcolor": "#E5ECF6",
          "polar": {
           "angularaxis": {
            "gridcolor": "white",
            "linecolor": "white",
            "ticks": ""
           },
           "bgcolor": "#E5ECF6",
           "radialaxis": {
            "gridcolor": "white",
            "linecolor": "white",
            "ticks": ""
           }
          },
          "scene": {
           "xaxis": {
            "backgroundcolor": "#E5ECF6",
            "gridcolor": "white",
            "gridwidth": 2,
            "linecolor": "white",
            "showbackground": true,
            "ticks": "",
            "zerolinecolor": "white"
           },
           "yaxis": {
            "backgroundcolor": "#E5ECF6",
            "gridcolor": "white",
            "gridwidth": 2,
            "linecolor": "white",
            "showbackground": true,
            "ticks": "",
            "zerolinecolor": "white"
           },
           "zaxis": {
            "backgroundcolor": "#E5ECF6",
            "gridcolor": "white",
            "gridwidth": 2,
            "linecolor": "white",
            "showbackground": true,
            "ticks": "",
            "zerolinecolor": "white"
           }
          },
          "shapedefaults": {
           "line": {
            "color": "#2a3f5f"
           }
          },
          "ternary": {
           "aaxis": {
            "gridcolor": "white",
            "linecolor": "white",
            "ticks": ""
           },
           "baxis": {
            "gridcolor": "white",
            "linecolor": "white",
            "ticks": ""
           },
           "bgcolor": "#E5ECF6",
           "caxis": {
            "gridcolor": "white",
            "linecolor": "white",
            "ticks": ""
           }
          },
          "title": {
           "x": 0.05
          },
          "xaxis": {
           "automargin": true,
           "gridcolor": "white",
           "linecolor": "white",
           "ticks": "",
           "title": {
            "standoff": 15
           },
           "zerolinecolor": "white",
           "zerolinewidth": 2
          },
          "yaxis": {
           "automargin": true,
           "gridcolor": "white",
           "linecolor": "white",
           "ticks": "",
           "title": {
            "standoff": 15
           },
           "zerolinecolor": "white",
           "zerolinewidth": 2
          }
         }
        },
        "title": {
         "font": {
          "color": "navy",
          "family": "Roboto",
          "size": 22,
          "weight": "bold"
         },
         "text": "",
         "x": 0.5,
         "y": 0.95
        },
        "width": 800
       }
      }
     },
     "metadata": {},
     "output_type": "display_data"
    }
   ],
   "source": [
    "visualize_white_connectome_with_surface_final(df.head(1), coords, marker_labels, cmap_markers='viridis', cmap_edges='Paired')"
   ]
  }
 ],
 "metadata": {
  "kernelspec": {
   "display_name": "xtra",
   "language": "python",
   "name": "python3"
  },
  "language_info": {
   "codemirror_mode": {
    "name": "ipython",
    "version": 3
   },
   "file_extension": ".py",
   "mimetype": "text/x-python",
   "name": "python",
   "nbconvert_exporter": "python",
   "pygments_lexer": "ipython3",
   "version": "3.11.7"
  }
 },
 "nbformat": 4,
 "nbformat_minor": 2
}
